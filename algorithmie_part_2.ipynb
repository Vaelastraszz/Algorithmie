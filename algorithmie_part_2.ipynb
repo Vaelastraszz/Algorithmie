{
  "nbformat": 4,
  "nbformat_minor": 0,
  "metadata": {
    "colab": {
      "name": "algorithmie part 2.ipynb",
      "provenance": [],
      "include_colab_link": true
    },
    "kernelspec": {
      "name": "python3",
      "display_name": "Python 3"
    }
  },
  "cells": [
    {
      "cell_type": "markdown",
      "metadata": {
        "id": "view-in-github",
        "colab_type": "text"
      },
      "source": [
        "<a href=\"https://colab.research.google.com/github/Vaelastraszz/Algorithmie/blob/master/algorithmie_part_2.ipynb\" target=\"_parent\"><img src=\"https://colab.research.google.com/assets/colab-badge.svg\" alt=\"Open In Colab\"/></a>"
      ]
    },
    {
      "cell_type": "code",
      "metadata": {
        "id": "GkaACWBKIvy_",
        "colab_type": "code",
        "outputId": "5a5458ae-20b2-40ce-b4d2-5858e7539f55",
        "colab": {
          "base_uri": "https://localhost:8080/",
          "height": 122
        }
      },
      "source": [
        "import sys\n",
        "import pandas as pd\n",
        "import matplotlib.pyplot as plt\n",
        "import numpy as np\n",
        "\n",
        "from google.colab import drive\n",
        "\n",
        "drive.mount('/content/gdrive')"
      ],
      "execution_count": 0,
      "outputs": [
        {
          "output_type": "stream",
          "text": [
            "Go to this URL in a browser: https://accounts.google.com/o/oauth2/auth?client_id=947318989803-6bn6qk8qdgf4n4g3pfee6491hc0brc4i.apps.googleusercontent.com&redirect_uri=urn%3Aietf%3Awg%3Aoauth%3A2.0%3Aoob&scope=email%20https%3A%2F%2Fwww.googleapis.com%2Fauth%2Fdocs.test%20https%3A%2F%2Fwww.googleapis.com%2Fauth%2Fdrive%20https%3A%2F%2Fwww.googleapis.com%2Fauth%2Fdrive.photos.readonly%20https%3A%2F%2Fwww.googleapis.com%2Fauth%2Fpeopleapi.readonly&response_type=code\n",
            "\n",
            "Enter your authorization code:\n",
            "··········\n",
            "Mounted at /content/gdrive\n"
          ],
          "name": "stdout"
        }
      ]
    },
    {
      "cell_type": "markdown",
      "metadata": {
        "id": "7ucCsE84JBYn",
        "colab_type": "text"
      },
      "source": [
        "<h2> Delete duplicates in ordered list </h2>"
      ]
    },
    {
      "cell_type": "code",
      "metadata": {
        "id": "Du95RNcpI2kT",
        "colab_type": "code",
        "colab": {}
      },
      "source": [
        "test = [1,4,4,4,5,5,6,7,8]"
      ],
      "execution_count": 0,
      "outputs": []
    },
    {
      "cell_type": "code",
      "metadata": {
        "id": "gM6EdxHBJTGv",
        "colab_type": "code",
        "colab": {}
      },
      "source": [
        "def check_dupli(test):\n",
        "\n",
        "    new = []\n",
        "    for i in test:\n",
        "        if i not in new :\n",
        "            new.append(i)\n",
        "            \n",
        "    return new"
      ],
      "execution_count": 0,
      "outputs": []
    },
    {
      "cell_type": "code",
      "metadata": {
        "id": "UjUvkdPuJyxV",
        "colab_type": "code",
        "outputId": "6ecaae23-2a94-459b-8950-9a415ffd663f",
        "colab": {
          "base_uri": "https://localhost:8080/",
          "height": 34
        }
      },
      "source": [
        "check_dupli(test)"
      ],
      "execution_count": 0,
      "outputs": [
        {
          "output_type": "execute_result",
          "data": {
            "text/plain": [
              "[1, 4, 5, 6, 7, 8]"
            ]
          },
          "metadata": {
            "tags": []
          },
          "execution_count": 4
        }
      ]
    },
    {
      "cell_type": "markdown",
      "metadata": {
        "id": "A10WN-yCKElR",
        "colab_type": "text"
      },
      "source": [
        "<h3> Move zeroes </h3>"
      ]
    },
    {
      "cell_type": "code",
      "metadata": {
        "id": "kT92lzAqJ1Hh",
        "colab_type": "code",
        "colab": {}
      },
      "source": [
        "test = [0,1,0,3,12]"
      ],
      "execution_count": 0,
      "outputs": []
    },
    {
      "cell_type": "code",
      "metadata": {
        "id": "Cj13qSjNKvOJ",
        "colab_type": "code",
        "colab": {}
      },
      "source": [
        "def first_zero(test):\n",
        "    for i in reversed(range((len(test)))):\n",
        "        if test[i]!=0:\n",
        "            return i"
      ],
      "execution_count": 0,
      "outputs": []
    },
    {
      "cell_type": "code",
      "metadata": {
        "id": "7deMhaknM0zu",
        "colab_type": "code",
        "colab": {}
      },
      "source": [
        "def move_zero(test):\n",
        "\n",
        "    temp_value = 0\n",
        "    i=0\n",
        "    while i < first_zero(test):\n",
        "        if test[i] == 0:\n",
        "            pos = first_zero(test)\n",
        "            temp_value = test[pos]           \n",
        "            test[pos] = 0\n",
        "            test[i:pos - 1] = test[i+1:pos]\n",
        "            test[pos-1] = temp_value\n",
        "            if test[i]==0:\n",
        "                i-=1\n",
        "            i+=1\n",
        "            temp_value = 0       \n",
        "    return test"
      ],
      "execution_count": 0,
      "outputs": []
    },
    {
      "cell_type": "code",
      "metadata": {
        "id": "-go1SdQBOyVz",
        "colab_type": "code",
        "outputId": "86aa4a0a-1e0e-4a53-c142-590c59e14981",
        "colab": {
          "base_uri": "https://localhost:8080/",
          "height": 34
        }
      },
      "source": [
        "move_zero(test)"
      ],
      "execution_count": 0,
      "outputs": [
        {
          "output_type": "execute_result",
          "data": {
            "text/plain": [
              "[1, 3, 12, 0, 0]"
            ]
          },
          "metadata": {
            "tags": []
          },
          "execution_count": 82
        }
      ]
    },
    {
      "cell_type": "markdown",
      "metadata": {
        "id": "c73ixO91UvEJ",
        "colab_type": "text"
      },
      "source": [
        "<h3> Invert vowel </h3>"
      ]
    },
    {
      "cell_type": "code",
      "metadata": {
        "id": "S77lHzeSU42j",
        "colab_type": "code",
        "colab": {}
      },
      "source": [
        "sentence = [\"h\",\"e\",\"l\",\"l\",\"o\"]"
      ],
      "execution_count": 0,
      "outputs": []
    },
    {
      "cell_type": "code",
      "metadata": {
        "id": "qtXN2252WRDN",
        "colab_type": "code",
        "colab": {}
      },
      "source": [
        "def store_vowel(sentence,vow):\n",
        "    storage = []\n",
        "    for i in sentence :\n",
        "        if i in vow :\n",
        "            storage.append(i)\n",
        "    return storage"
      ],
      "execution_count": 0,
      "outputs": []
    },
    {
      "cell_type": "code",
      "metadata": {
        "id": "RMPyToxAQgrg",
        "colab_type": "code",
        "colab": {}
      },
      "source": [
        "def invert_vow(sentence):\n",
        "    vow = \"aeiouAEIOU\"\n",
        "    storage = store_vowel(sentence,vow)\n",
        "    inverted = \"\"\n",
        "    for i in sentence :\n",
        "        if i not in vow :\n",
        "            inverted = inverted + i\n",
        "        else :\n",
        "            inverted = inverted + storage[len(storage)-1]\n",
        "            storage.pop()\n",
        "\n",
        "    return inverted"
      ],
      "execution_count": 0,
      "outputs": []
    },
    {
      "cell_type": "markdown",
      "metadata": {
        "id": "wf4jGTuvjx4x",
        "colab_type": "text"
      },
      "source": [
        "<h3> Detect capital </h3>"
      ]
    },
    {
      "cell_type": "code",
      "metadata": {
        "id": "lM4RlJh7cgtT",
        "colab_type": "code",
        "colab": {}
      },
      "source": [
        "def capital(sentence):\n",
        "    if len(sentence)==1:\n",
        "        return True\n",
        "    elif sentence.isupper()==True:\n",
        "        return True\n",
        "    elif sentence[1:].islower()==True and sentence[0].isupper()==True :\n",
        "        return True\n",
        "    elif sentence[0].isupper()==False and sentence[1:].islower()==False:\n",
        "        return False\n",
        "    elif sentence[0].isupper()==True and sentence[1:].islower()==False:\n",
        "        return False\n",
        "    else:\n",
        "        return True"
      ],
      "execution_count": 0,
      "outputs": []
    },
    {
      "cell_type": "code",
      "metadata": {
        "id": "oj317EuxkNMT",
        "colab_type": "code",
        "outputId": "cb67c17c-378b-45b6-bc35-836f6a23a886",
        "colab": {
          "base_uri": "https://localhost:8080/",
          "height": 34
        }
      },
      "source": [
        "capital(\"FlaG\")"
      ],
      "execution_count": 0,
      "outputs": [
        {
          "output_type": "execute_result",
          "data": {
            "text/plain": [
              "False"
            ]
          },
          "metadata": {
            "tags": []
          },
          "execution_count": 42
        }
      ]
    },
    {
      "cell_type": "markdown",
      "metadata": {
        "id": "sxKyMsuA3gzK",
        "colab_type": "text"
      },
      "source": [
        "<h3> Frequency mesurement </h3>"
      ]
    },
    {
      "cell_type": "code",
      "metadata": {
        "id": "hKEsRrjR3uC7",
        "colab_type": "code",
        "colab": {}
      },
      "source": [
        "input_l = [1,2,2,1,1,2]"
      ],
      "execution_count": 0,
      "outputs": []
    },
    {
      "cell_type": "code",
      "metadata": {
        "id": "1cALTFVwlqB4",
        "colab_type": "code",
        "colab": {}
      },
      "source": [
        "def freq(input_l):\n",
        "\n",
        "    freq = {}\n",
        "    output = []\n",
        "    for item in input_l:\n",
        "        if item in freq :\n",
        "            freq[item] +=1\n",
        "        else :\n",
        "            freq[item] = 1\n",
        "    \n",
        "    [output.append(k) for k in freq.keys() if freq[k] > len(input_l)/3]\n",
        "\n",
        "    return output\n",
        "    \n",
        "\n",
        "        \n",
        "    \n"
      ],
      "execution_count": 0,
      "outputs": []
    },
    {
      "cell_type": "code",
      "metadata": {
        "id": "sshPZFYf5s1A",
        "colab_type": "code",
        "outputId": "96557fd1-1dec-459b-cbe9-fd12905ddfb0",
        "colab": {
          "base_uri": "https://localhost:8080/",
          "height": 34
        }
      },
      "source": [
        "freq(input_l)"
      ],
      "execution_count": 0,
      "outputs": [
        {
          "output_type": "execute_result",
          "data": {
            "text/plain": [
              "[1, 2]"
            ]
          },
          "metadata": {
            "tags": []
          },
          "execution_count": 18
        }
      ]
    },
    {
      "cell_type": "markdown",
      "metadata": {
        "id": "VtThlZCVSSvr",
        "colab_type": "text"
      },
      "source": [
        "<h3> Shuffle liste </h3"
      ]
    },
    {
      "cell_type": "code",
      "metadata": {
        "id": "1Yc3Q_ya5zoQ",
        "colab_type": "code",
        "colab": {}
      },
      "source": [
        "import random\n",
        "import copy\n",
        "\n",
        "class nums:\n",
        "    def __init__(self, nums):\n",
        "      self.nums = nums\n",
        "      self.copy = copy.deepcopy(nums)\n",
        "    \n",
        "    def reset(self):\n",
        "        return self.nums\n",
        "\n",
        "    def shuffle(self):\n",
        "       random.shuffle(self.copy) \n",
        "       return self.copy\n",
        "\n"
      ],
      "execution_count": 0,
      "outputs": []
    },
    {
      "cell_type": "code",
      "metadata": {
        "id": "QNGAHGklS4Ca",
        "colab_type": "code",
        "colab": {}
      },
      "source": [
        "num = nums([1,2,3])"
      ],
      "execution_count": 0,
      "outputs": []
    },
    {
      "cell_type": "code",
      "metadata": {
        "id": "tAN_gEkkUBSl",
        "colab_type": "code",
        "outputId": "fdcf0f80-4004-49de-9624-00259b414579",
        "colab": {
          "base_uri": "https://localhost:8080/",
          "height": 34
        }
      },
      "source": [
        "num.reset()"
      ],
      "execution_count": 0,
      "outputs": [
        {
          "output_type": "execute_result",
          "data": {
            "text/plain": [
              "[1, 2, 3]"
            ]
          },
          "metadata": {
            "tags": []
          },
          "execution_count": 62
        }
      ]
    },
    {
      "cell_type": "code",
      "metadata": {
        "id": "3UklDpEGVuJN",
        "colab_type": "code",
        "outputId": "efa3a411-c6a3-444b-9688-acf4c8872dc3",
        "colab": {
          "base_uri": "https://localhost:8080/",
          "height": 34
        }
      },
      "source": [
        "num.shuffle()"
      ],
      "execution_count": 0,
      "outputs": [
        {
          "output_type": "execute_result",
          "data": {
            "text/plain": [
              "[2, 3, 1]"
            ]
          },
          "metadata": {
            "tags": []
          },
          "execution_count": 61
        }
      ]
    },
    {
      "cell_type": "code",
      "metadata": {
        "id": "mG65CmkvWdh4",
        "colab_type": "code",
        "outputId": "073af617-fe3e-4199-8d2c-12388b62580f",
        "colab": {
          "base_uri": "https://localhost:8080/",
          "height": 34
        }
      },
      "source": [
        "num.copy"
      ],
      "execution_count": 0,
      "outputs": [
        {
          "output_type": "execute_result",
          "data": {
            "text/plain": [
              "[2, 3, 1]"
            ]
          },
          "metadata": {
            "tags": []
          },
          "execution_count": 56
        }
      ]
    },
    {
      "cell_type": "code",
      "metadata": {
        "id": "xzBkYcFtWpvd",
        "colab_type": "code",
        "colab": {}
      },
      "source": [
        ""
      ],
      "execution_count": 0,
      "outputs": []
    }
  ]
}