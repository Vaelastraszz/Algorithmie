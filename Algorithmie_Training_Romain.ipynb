{
  "nbformat": 4,
  "nbformat_minor": 0,
  "metadata": {
    "colab": {
      "name": "Algorithmie Training Romain",
      "provenance": [],
      "include_colab_link": true
    },
    "kernelspec": {
      "name": "python3",
      "display_name": "Python 3"
    }
  },
  "cells": [
    {
      "cell_type": "markdown",
      "metadata": {
        "id": "view-in-github",
        "colab_type": "text"
      },
      "source": [
        "<a href=\"https://colab.research.google.com/github/Vaelastraszz/Algorithmie/blob/master/Algorithmie_Training_Romain.ipynb\" target=\"_parent\"><img src=\"https://colab.research.google.com/assets/colab-badge.svg\" alt=\"Open In Colab\"/></a>"
      ]
    },
    {
      "cell_type": "code",
      "metadata": {
        "id": "QKBzp6Idg60g",
        "colab_type": "code",
        "outputId": "ea1cd7e3-9cd7-462a-a8e9-e7188adede3e",
        "colab": {
          "base_uri": "https://localhost:8080/",
          "height": 34
        }
      },
      "source": [
        "import sys\n",
        "import pandas as pd\n",
        "import matplotlib.pyplot as plt\n",
        "import numpy as np\n",
        "\n",
        "from google.colab import drive\n",
        "\n",
        "drive.mount('/content/gdrive')"
      ],
      "execution_count": 0,
      "outputs": [
        {
          "output_type": "stream",
          "text": [
            "Drive already mounted at /content/gdrive; to attempt to forcibly remount, call drive.mount(\"/content/gdrive\", force_remount=True).\n"
          ],
          "name": "stdout"
        }
      ]
    },
    {
      "cell_type": "markdown",
      "metadata": {
        "id": "pRxzisPFhK_p",
        "colab_type": "text"
      },
      "source": [
        "# <h1> Longest substring within a string </h1>"
      ]
    },
    {
      "cell_type": "markdown",
      "metadata": {
        "id": "MIgpSNTdjXmO",
        "colab_type": "text"
      },
      "source": [
        "<h2> Romain Solution </h2>"
      ]
    },
    {
      "cell_type": "code",
      "metadata": {
        "id": "b_XhFHrVhBjc",
        "colab_type": "code",
        "colab": {}
      },
      "source": [
        "import time\n",
        "\n",
        "s = \"abcabcbbd\"\n",
        "\n",
        "def longest_subs(s):\n",
        "    top = 1\n",
        "    break_mark = 0\n",
        "    counter = 1  \n",
        "    start_time = time.time()\n",
        "    \n",
        "    for index,letter in enumerate(s):\n",
        "    \n",
        "        for i in range(break_mark, index):\n",
        "\n",
        "            if s[index]!=s[i]:\n",
        "                counter = counter + 1\n",
        "\n",
        "            else:\n",
        "                break_mark = index\n",
        "                break\n",
        "\n",
        "        top = counter if counter > top else top        \n",
        "        counter = 1\n",
        "        \n",
        "    end_time = time.time()\n",
        "    print('Duration: {}'.format(end_time - start_time))\n",
        "    \n",
        "    return top"
      ],
      "execution_count": 0,
      "outputs": []
    },
    {
      "cell_type": "code",
      "metadata": {
        "id": "SnKOBoakhE6c",
        "colab_type": "code",
        "outputId": "58a932cb-17ab-4abe-a380-f123337588b7",
        "colab": {
          "base_uri": "https://localhost:8080/",
          "height": 51
        }
      },
      "source": [
        "longest_subs(s)"
      ],
      "execution_count": 0,
      "outputs": [
        {
          "output_type": "stream",
          "text": [
            "Duration: 1.239776611328125e-05\n"
          ],
          "name": "stdout"
        },
        {
          "output_type": "execute_result",
          "data": {
            "text/plain": [
              "3"
            ]
          },
          "metadata": {
            "tags": []
          },
          "execution_count": 19
        }
      ]
    },
    {
      "cell_type": "markdown",
      "metadata": {
        "id": "ZQfrkzXGjcwm",
        "colab_type": "text"
      },
      "source": [
        "<h2> Leetcode solution </h2>"
      ]
    },
    {
      "cell_type": "code",
      "metadata": {
        "id": "Xpf5xRpWhxnL",
        "colab_type": "code",
        "colab": {}
      },
      "source": [
        "    def lengthOfLongestSubstring(s):\n",
        "        seen = {}\n",
        "        start = 0\n",
        "        max_len = 0\n",
        "        \n",
        "        start_time = time.time()\n",
        "        \n",
        "        #we will use the sliding window \n",
        "        for end in range(len(s)):\n",
        "            if s[end] in seen:  \n",
        "                start = max(start, seen[s[end]] + 1) # if that char is already in the hash table then update the start index of the sliding window\n",
        "                \n",
        "            seen[s[end]] = end #we will keep track of the indices in hash table  \n",
        "            \n",
        "            max_len = max(max_len, end-start + 1) # update the max len by the length of the sliding window \n",
        "        \n",
        "        end_time = time.time()\n",
        "        print('Duration: {}'.format(end_time - start_time))\n",
        "            \n",
        "        return max_len"
      ],
      "execution_count": 0,
      "outputs": []
    },
    {
      "cell_type": "code",
      "metadata": {
        "id": "ge1EhMHhiyVH",
        "colab_type": "code",
        "outputId": "33b554fb-7104-427a-b471-581c53251346",
        "colab": {
          "base_uri": "https://localhost:8080/",
          "height": 51
        }
      },
      "source": [
        "lengthOfLongestSubstring(s)"
      ],
      "execution_count": 0,
      "outputs": [
        {
          "output_type": "stream",
          "text": [
            "Duration: 1.1682510375976562e-05\n"
          ],
          "name": "stdout"
        },
        {
          "output_type": "execute_result",
          "data": {
            "text/plain": [
              "3"
            ]
          },
          "metadata": {
            "tags": []
          },
          "execution_count": 20
        }
      ]
    },
    {
      "cell_type": "markdown",
      "metadata": {
        "id": "CfZvD0THDGl7",
        "colab_type": "text"
      },
      "source": [
        "<h2>  Longest palindrome in a string </h2> "
      ]
    },
    {
      "cell_type": "code",
      "metadata": {
        "id": "1c31dLZWi6Z_",
        "colab_type": "code",
        "colab": {}
      },
      "source": [
        "def longest(s):\n",
        "    \n",
        "    for i in range(len(s)):\n",
        "        \n",
        "        for j in reversed(range(len(s))):\n",
        "            \n",
        "            if s[i]==s[j] :\n",
        "                \n",
        "                \n",
        "   \n",
        "    \n",
        "    \n",
        "    return palindrome"
      ],
      "execution_count": 0,
      "outputs": []
    },
    {
      "cell_type": "code",
      "metadata": {
        "id": "3Y9sOAqYFQkb",
        "colab_type": "code",
        "colab": {}
      },
      "source": [
        "test = \"coucou\""
      ],
      "execution_count": 0,
      "outputs": []
    },
    {
      "cell_type": "code",
      "metadata": {
        "id": "e8csO6F1FbPM",
        "colab_type": "code",
        "outputId": "c031c866-724f-47b9-c06f-9ddbad24ccbf",
        "colab": {
          "base_uri": "https://localhost:8080/",
          "height": 119
        }
      },
      "source": [
        "for i in reversed(range(len(test))):\n",
        "    print (test[i])"
      ],
      "execution_count": 0,
      "outputs": [
        {
          "output_type": "stream",
          "text": [
            "u\n",
            "o\n",
            "c\n",
            "u\n",
            "o\n",
            "c\n"
          ],
          "name": "stdout"
        }
      ]
    },
    {
      "cell_type": "markdown",
      "metadata": {
        "id": "y-gSRuVnItCX",
        "colab_type": "text"
      },
      "source": [
        "<h2> Detect palindrome </h2>"
      ]
    },
    {
      "cell_type": "code",
      "metadata": {
        "id": "8NaXpqs-GJhV",
        "colab_type": "code",
        "colab": {}
      },
      "source": [
        "import re \n",
        "\n",
        "def detect(s):\n",
        "    \n",
        "    pal = re.sub('[^a-zA-Z]+', '', s)\n",
        "    j = len(pal) - 1 \n",
        "    i=0\n",
        "    \n",
        "    while i!=j:\n",
        "        \n",
        "        if pal[i]!=pal[j] :\n",
        "                \n",
        "                return False\n",
        "                break\n",
        "        else:\n",
        "                \n",
        "            i+= 1\n",
        "            j-=1\n",
        "                \n",
        "            return True\n",
        "    \n",
        "    "
      ],
      "execution_count": 0,
      "outputs": []
    },
    {
      "cell_type": "code",
      "metadata": {
        "id": "XUxmHz3SJRAo",
        "colab_type": "code",
        "outputId": "f77507ae-864c-482a-b1b0-acce0b402438",
        "colab": {
          "base_uri": "https://localhost:8080/",
          "height": 34
        }
      },
      "source": [
        "detect(\"bob\")"
      ],
      "execution_count": 0,
      "outputs": [
        {
          "output_type": "execute_result",
          "data": {
            "text/plain": [
              "True"
            ]
          },
          "metadata": {
            "tags": []
          },
          "execution_count": 30
        }
      ]
    },
    {
      "cell_type": "markdown",
      "metadata": {
        "id": "Kow2bvURMvUE",
        "colab_type": "text"
      },
      "source": [
        "<h2> Gradient coding </h2>"
      ]
    },
    {
      "cell_type": "code",
      "metadata": {
        "id": "eglp5m5IJUJo",
        "colab_type": "code",
        "colab": {}
      },
      "source": [
        "\n",
        "eta = 0.01 #learning rate\n",
        "X = np.random.rand(3,6)\n",
        "y = np.random.rand(3,1)\n",
        "m = 100\n",
        "iteration = 1000\n",
        "\n",
        "theta = np.random.randn(6,1)\n",
        "\n",
        "\n",
        "for i in range(iteration):\n",
        "    \n",
        "    gradients = 2/m*X.T.dot(X.dot(theta) - y)\n",
        "    theta = theta - eta*gradients\n",
        "    print(theta)\n",
        "    \n",
        "    "
      ],
      "execution_count": 0,
      "outputs": []
    },
    {
      "cell_type": "code",
      "metadata": {
        "id": "s1NDJ1ZtNiFS",
        "colab_type": "code",
        "colab": {}
      },
      "source": [
        "X.dot(theta)"
      ],
      "execution_count": 0,
      "outputs": []
    },
    {
      "cell_type": "markdown",
      "metadata": {
        "id": "C5OwZ_y26UNX",
        "colab_type": "text"
      },
      "source": [
        "<h2> Reversing string <h2>"
      ]
    },
    {
      "cell_type": "code",
      "metadata": {
        "id": "l-qyaKD6W21t",
        "colab_type": "code",
        "colab": {}
      },
      "source": [
        "def reverse(s):\n",
        "    \n",
        "    rev=\"\"\n",
        "    \n",
        "    for i in reversed(range(len(s))) :\n",
        "        \n",
        "        rev =  rev + s[i]\n",
        "    \n",
        "    return rev"
      ],
      "execution_count": 0,
      "outputs": []
    },
    {
      "cell_type": "code",
      "metadata": {
        "id": "MhCK6zPq6uGa",
        "colab_type": "code",
        "outputId": "09debaad-271a-443b-f853-3c91c2ce5c73",
        "colab": {
          "base_uri": "https://localhost:8080/",
          "height": 34
        }
      },
      "source": [
        "reverse(\"prout\")"
      ],
      "execution_count": 0,
      "outputs": [
        {
          "output_type": "execute_result",
          "data": {
            "text/plain": [
              "'tuorp'"
            ]
          },
          "metadata": {
            "tags": []
          },
          "execution_count": 9
        }
      ]
    },
    {
      "cell_type": "markdown",
      "metadata": {
        "id": "rxwFX3Tj7FaH",
        "colab_type": "text"
      },
      "source": [
        "<h2> fuzzbizz </h2>"
      ]
    },
    {
      "cell_type": "code",
      "metadata": {
        "id": "leago0307EtJ",
        "colab_type": "code",
        "colab": {}
      },
      "source": [
        "for i in range(190):\n",
        "        \n",
        "    if i%3==0 and i%5==0 :\n",
        "        \n",
        "        print(\"fuzzbizz\")\n",
        "        \n",
        "    elif  i%5==0:\n",
        "        \n",
        "        print (\"bizz\")\n",
        "        \n",
        "    \n",
        "    elif i%3==0 :\n",
        "        \n",
        "        print (\"fuzz\")\n",
        "    \n",
        "    else :\n",
        "        \n",
        "        print(i)"
      ],
      "execution_count": 0,
      "outputs": []
    },
    {
      "cell_type": "markdown",
      "metadata": {
        "id": "ZIM8NrBz79Bl",
        "colab_type": "text"
      },
      "source": [
        "<h2> Square root computing </h2>"
      ]
    },
    {
      "cell_type": "code",
      "metadata": {
        "id": "Tz74UZxo6v6i",
        "colab_type": "code",
        "colab": {}
      },
      "source": [
        "def squared(v):\n",
        "    \n",
        "    sqr = 0\n",
        "    i = 0\n",
        "    \n",
        "    if v > 0:\n",
        "        while i <= v:\n",
        "\n",
        "            if int(i*i) == v:\n",
        "                sqr = i              \n",
        "                break\n",
        "\n",
        "            i += 0.0001\n",
        "        \n",
        "        return int(sqr)  \n",
        "    \n",
        "    else :\n",
        "        return print(\"not possible on negative value or null values\")\n",
        "       "
      ],
      "execution_count": 0,
      "outputs": []
    },
    {
      "cell_type": "code",
      "metadata": {
        "id": "0pf9s5Vm899g",
        "colab_type": "code",
        "outputId": "e65f25d1-1fd7-4b48-8828-8ec2a63c01c2",
        "colab": {
          "base_uri": "https://localhost:8080/",
          "height": 34
        }
      },
      "source": [
        "squared(900)"
      ],
      "execution_count": 0,
      "outputs": [
        {
          "output_type": "execute_result",
          "data": {
            "text/plain": [
              "30"
            ]
          },
          "metadata": {
            "tags": []
          },
          "execution_count": 48
        }
      ]
    },
    {
      "cell_type": "markdown",
      "metadata": {
        "id": "n2Np0gK7J_-0",
        "colab_type": "text"
      },
      "source": [
        "<h2> Return two sum <h2>"
      ]
    },
    {
      "cell_type": "code",
      "metadata": {
        "id": "LPWGgc5x9CdU",
        "colab_type": "code",
        "colab": {}
      },
      "source": [
        "def twosum(tab, target):\n",
        "    \n",
        "    index = np.zeros(2)\n",
        "    stop = 0\n",
        "    \n",
        "    for i in range(tab.shape[0]):\n",
        "        \n",
        "        if stop ==0 :\n",
        "            for j in range(i+1,tab.shape[0]) :\n",
        "\n",
        "                if tab[j]==target - tab[i] :\n",
        "\n",
        "                    index[0] = i\n",
        "                    index[1] = j\n",
        "                    stop +=1\n",
        "                    break               \n",
        "               \n",
        "                    \n",
        "        else:\n",
        "            return index\n",
        "            break\n",
        "                "
      ],
      "execution_count": 0,
      "outputs": []
    },
    {
      "cell_type": "code",
      "metadata": {
        "id": "dR46AUtMKaEs",
        "colab_type": "code",
        "colab": {}
      },
      "source": [
        "test = np.array([2,8,9,10,100])"
      ],
      "execution_count": 0,
      "outputs": []
    },
    {
      "cell_type": "code",
      "metadata": {
        "id": "X4UQ1Rl9Kkub",
        "colab_type": "code",
        "outputId": "b3637bed-6181-4be6-8841-0c74ff24a11d",
        "colab": {
          "base_uri": "https://localhost:8080/",
          "height": 34
        }
      },
      "source": [
        "twosum(test, 102)"
      ],
      "execution_count": 0,
      "outputs": [
        {
          "output_type": "execute_result",
          "data": {
            "text/plain": [
              "array([0., 4.])"
            ]
          },
          "metadata": {
            "tags": []
          },
          "execution_count": 85
        }
      ]
    },
    {
      "cell_type": "markdown",
      "metadata": {
        "id": "d6N8A0opYJt6",
        "colab_type": "text"
      },
      "source": [
        "<h2> Bubble sort </h2>"
      ]
    },
    {
      "cell_type": "code",
      "metadata": {
        "id": "WA2uFCbgO4Cv",
        "colab_type": "code",
        "colab": {}
      },
      "source": [
        "def b_sort(tab):\n",
        "    \n",
        "    temp = 0 \n",
        "    \n",
        "    for i in range(tab.shape[0]):\n",
        "        \n",
        "        if i <= (tab.shape[0] - 2):\n",
        "        \n",
        "            j = i+1\n",
        "\n",
        "            if tab[i] > tab[j]:\n",
        "\n",
        "                tab[i],tab[j]= tab[j],tab[i]\n",
        "\n",
        "    \n",
        "    for i in reversed(range(tab.shape[0])):\n",
        "    \n",
        "            if i >= 1:\n",
        "        \n",
        "                j = i-1\n",
        "\n",
        "                if tab[i] < tab[j]:\n",
        "\n",
        "                    tab[i],tab[j]= tab[j],tab[i]\n",
        "\n",
        "\n",
        "    \n",
        "    return tab"
      ],
      "execution_count": 0,
      "outputs": []
    },
    {
      "cell_type": "code",
      "metadata": {
        "id": "olgswTQWZnF0",
        "colab_type": "code",
        "colab": {}
      },
      "source": [
        "test = np.array([2,1,5,0,3,10,4,19,8,14])"
      ],
      "execution_count": 0,
      "outputs": []
    },
    {
      "cell_type": "code",
      "metadata": {
        "id": "CcZ8KR4lZmRP",
        "colab_type": "code",
        "outputId": "82bb1cca-951d-44c7-8472-9fa20ff9abb6",
        "colab": {
          "base_uri": "https://localhost:8080/",
          "height": 34
        }
      },
      "source": [
        "b_sort(test)"
      ],
      "execution_count": 0,
      "outputs": [
        {
          "output_type": "execute_result",
          "data": {
            "text/plain": [
              "array([ 0,  1,  2,  3,  4,  5,  8, 10, 14, 19])"
            ]
          },
          "metadata": {
            "tags": []
          },
          "execution_count": 121
        }
      ]
    },
    {
      "cell_type": "markdown",
      "metadata": {
        "id": "DwN1fB7MFdUB",
        "colab_type": "text"
      },
      "source": [
        "<h2> Creation d'une pile </h2>"
      ]
    },
    {
      "cell_type": "code",
      "metadata": {
        "id": "AGTB192TbVh7",
        "colab_type": "code",
        "colab": {}
      },
      "source": [
        "class Stack:\n",
        "    \n",
        "    def __init__(self):\n",
        "         self.items = []\n",
        "            \n",
        "    def push(self,item):\n",
        "        return self.items.append(item)\n",
        "    \n",
        "    def isEmpty(self):\n",
        "        return self.items == []\n",
        "    \n",
        "    def pop(self):\n",
        "        return self.items.pop()\n",
        "    \n",
        "    def peek(self):\n",
        "        return self.items[len(self.items)-1]\n",
        "    \n",
        "    def size(self):\n",
        "        return len(self.items)"
      ],
      "execution_count": 0,
      "outputs": []
    },
    {
      "cell_type": "code",
      "metadata": {
        "id": "g-cRiGQHGku4",
        "colab_type": "code",
        "colab": {}
      },
      "source": [
        "stack = Stack()"
      ],
      "execution_count": 0,
      "outputs": []
    },
    {
      "cell_type": "code",
      "metadata": {
        "id": "CAHZOfVMGq1v",
        "colab_type": "code",
        "colab": {}
      },
      "source": [
        "stack.push(\"prout\")"
      ],
      "execution_count": 0,
      "outputs": []
    },
    {
      "cell_type": "code",
      "metadata": {
        "id": "kklE2LPtGuC9",
        "colab_type": "code",
        "outputId": "6cbc913d-2746-42d6-9479-5486be151fcd",
        "colab": {
          "base_uri": "https://localhost:8080/",
          "height": 34
        }
      },
      "source": [
        "stack.peek()"
      ],
      "execution_count": 0,
      "outputs": [
        {
          "output_type": "execute_result",
          "data": {
            "text/plain": [
              "'prout'"
            ]
          },
          "metadata": {
            "tags": []
          },
          "execution_count": 132
        }
      ]
    },
    {
      "cell_type": "markdown",
      "metadata": {
        "id": "H6dRFsvYNfn6",
        "colab_type": "text"
      },
      "source": [
        "<h2> Création d'une file </h2>"
      ]
    },
    {
      "cell_type": "code",
      "metadata": {
        "id": "t6QxI1VuG0Ce",
        "colab_type": "code",
        "colab": {}
      },
      "source": [
        "class Queue:\n",
        "    \n",
        "    def __init__(self):\n",
        "         self.items = []\n",
        "            \n",
        "    def enqueue(self,item):\n",
        "        return self.items.insert(0,item)\n",
        "    \n",
        "    def isEmpty(self):\n",
        "        return self.items == []\n",
        "    \n",
        "    def dequeue(self):\n",
        "        return self.items.pop()\n",
        "    \n",
        "    def size(self):\n",
        "        return len(self.items)"
      ],
      "execution_count": 0,
      "outputs": []
    },
    {
      "cell_type": "code",
      "metadata": {
        "id": "GyHf7vBVN9WK",
        "colab_type": "code",
        "colab": {}
      },
      "source": [
        "queue= Queue()"
      ],
      "execution_count": 0,
      "outputs": []
    },
    {
      "cell_type": "code",
      "metadata": {
        "id": "SAy4QK40N_lh",
        "colab_type": "code",
        "colab": {}
      },
      "source": [
        "queue.enqueue(4)"
      ],
      "execution_count": 0,
      "outputs": []
    },
    {
      "cell_type": "code",
      "metadata": {
        "id": "pw0B0cbBOCcS",
        "colab_type": "code",
        "colab": {}
      },
      "source": [
        "queue.enqueue(8)"
      ],
      "execution_count": 0,
      "outputs": []
    },
    {
      "cell_type": "code",
      "metadata": {
        "id": "39xE9VhsS6iH",
        "colab_type": "code",
        "outputId": "ce9026ba-7041-44e0-b378-4cbfc4568da9",
        "colab": {
          "base_uri": "https://localhost:8080/",
          "height": 34
        }
      },
      "source": [
        "queue.size()"
      ],
      "execution_count": 0,
      "outputs": [
        {
          "output_type": "execute_result",
          "data": {
            "text/plain": [
              "1"
            ]
          },
          "metadata": {
            "tags": []
          },
          "execution_count": 152
        }
      ]
    },
    {
      "cell_type": "code",
      "metadata": {
        "id": "I38oWqTPOEMx",
        "colab_type": "code",
        "colab": {}
      },
      "source": [
        "queue.dequeue()"
      ],
      "execution_count": 0,
      "outputs": []
    },
    {
      "cell_type": "code",
      "metadata": {
        "id": "PuPAfzhfOLQD",
        "colab_type": "code",
        "colab": {}
      },
      "source": [
        "def HotPotato(n, num):\n",
        "    \n",
        "    names = n\n",
        "    Q = Queue()\n",
        "    \n",
        "    for i in range(len(names)):\n",
        "        \n",
        "        Q.enqueue(names[i])\n",
        "    \n",
        "    while  Q.size > 1 :\n",
        "        \n",
        "        i = 0\n",
        "        \n",
        "        while i <= num :\n",
        "\n",
        "            if i < num :\n",
        "                elem = Q.dequeue()\n",
        "                Q.enqueue(elem)\n",
        "                i+=1\n",
        "\n",
        "            else :\n",
        "\n",
        "                Q.dequeue()\n",
        "                break\n",
        "\n",
        "            \n",
        "    "
      ],
      "execution_count": 0,
      "outputs": []
    },
    {
      "cell_type": "code",
      "metadata": {
        "id": "nigmEIKqQgkf",
        "colab_type": "code",
        "colab": {}
      },
      "source": [
        "names = [\"jean\",\"jacques\",\"louis\",\"paul\",\"romain\",\"alex\"]"
      ],
      "execution_count": 0,
      "outputs": []
    },
    {
      "cell_type": "code",
      "metadata": {
        "id": "MwEABy3mQn9T",
        "colab_type": "code",
        "colab": {}
      },
      "source": [
        "HotPotato(names,15)"
      ],
      "execution_count": 0,
      "outputs": []
    },
    {
      "cell_type": "markdown",
      "metadata": {
        "id": "XcQHDKgiUZMp",
        "colab_type": "text"
      },
      "source": [
        "<h2> Création d'une dequeue </h2>"
      ]
    },
    {
      "cell_type": "code",
      "metadata": {
        "id": "mp_MMsx5UYx1",
        "colab_type": "code",
        "colab": {}
      },
      "source": [
        "class Dequeue:\n",
        "    \n",
        "    def __init__(self):\n",
        "        self.items = []\n",
        "            \n",
        "    def addRear(self,item):\n",
        "        return self.items.insert(0,item)\n",
        "    \n",
        "    def addFront(self,item):\n",
        "        return self.items.append(item)\n",
        "    \n",
        "    def isEmpty(self):\n",
        "        return self.items == []\n",
        "    \n",
        "    def removeFront(self):\n",
        "        return self.items.pop()\n",
        "    \n",
        "    def removeRear(self):\n",
        "        return self.items.pop(0)\n",
        "    \n",
        "    def size(self):\n",
        "        return len(self.items)"
      ],
      "execution_count": 0,
      "outputs": []
    },
    {
      "cell_type": "markdown",
      "metadata": {
        "id": "gV_XNdEfZ4ky",
        "colab_type": "text"
      },
      "source": [
        "<h2> Creation suite de fibonacci </h2>"
      ]
    },
    {
      "cell_type": "markdown",
      "metadata": {
        "id": "nBv1UAR6iXWd",
        "colab_type": "text"
      },
      "source": [
        "<h3> Queue </h3>"
      ]
    },
    {
      "cell_type": "code",
      "metadata": {
        "id": "YvRn3juOR0AI",
        "colab_type": "code",
        "colab": {}
      },
      "source": [
        "def fibonnacci(iteration):\n",
        "    \n",
        "    tab = np.zeros(iteration)\n",
        "    tab[0] = 1\n",
        "    \n",
        "    q = Queue()\n",
        "    \n",
        "    q.enqueue(0)\n",
        "    q.enqueue(1)\n",
        "    \n",
        "    for i in range(iteration) :\n",
        "        \n",
        "        if i>=1 :\n",
        "            \n",
        "            elem1 = q.dequeue()\n",
        "            elem2 = q.dequeue()\n",
        "            tab[i]= elem1 + elem2\n",
        "            q.enqueue(elem2)\n",
        "            q.enqueue(tab[i])\n",
        "            \n",
        "    return tab\n",
        "            \n",
        "       "
      ],
      "execution_count": 0,
      "outputs": []
    },
    {
      "cell_type": "code",
      "metadata": {
        "id": "T3cfkP5LaV_W",
        "colab_type": "code",
        "outputId": "d7d6e96f-d708-4652-c12e-a1f54d9acfd0",
        "colab": {
          "base_uri": "https://localhost:8080/",
          "height": 34
        }
      },
      "source": [
        "fibonnacci(10)"
      ],
      "execution_count": 0,
      "outputs": [
        {
          "output_type": "execute_result",
          "data": {
            "text/plain": [
              "array([ 1.,  1.,  2.,  3.,  5.,  8., 13., 21., 34., 55.])"
            ]
          },
          "metadata": {
            "tags": []
          },
          "execution_count": 160
        }
      ]
    },
    {
      "cell_type": "markdown",
      "metadata": {
        "id": "pPeHcbMLib-l",
        "colab_type": "text"
      },
      "source": [
        "<h3> Fibonacci  recursive</h3>"
      ]
    },
    {
      "cell_type": "code",
      "metadata": {
        "id": "B_hG1QFGifnB",
        "colab_type": "code",
        "colab": {}
      },
      "source": [
        "def recfib(n):\n",
        "    \n",
        "    if n<=1 :\n",
        "        return n\n",
        "    else:\n",
        "        return recfib(n-1) + recfib(n-2)"
      ],
      "execution_count": 0,
      "outputs": []
    },
    {
      "cell_type": "code",
      "metadata": {
        "id": "3TLR65fyjXJF",
        "colab_type": "code",
        "outputId": "50b32627-74c6-4ea7-b1b2-1c1475f16611",
        "colab": {
          "base_uri": "https://localhost:8080/",
          "height": 34
        }
      },
      "source": [
        "print(recfib(10))"
      ],
      "execution_count": 0,
      "outputs": [
        {
          "output_type": "stream",
          "text": [
            "55\n"
          ],
          "name": "stdout"
        }
      ]
    },
    {
      "cell_type": "markdown",
      "metadata": {
        "id": "wV4MuAk-kaBF",
        "colab_type": "text"
      },
      "source": [
        "<h3> DProgramming fibonacci </h3>"
      ]
    },
    {
      "cell_type": "code",
      "metadata": {
        "id": "Coxqj1TPkZRq",
        "colab_type": "code",
        "colab": {}
      },
      "source": [
        "storage =  {}\n",
        "\n",
        "def fibo(n):\n",
        "    if n not in storage :\n",
        "        if n<=1 :\n",
        "            return n\n",
        "        else :\n",
        "            f = fibo(n-1) + fibo(n-2)\n",
        "            storage[n] = f\n",
        "            return f\n",
        "    else :\n",
        "         return storage[n]"
      ],
      "execution_count": 0,
      "outputs": []
    },
    {
      "cell_type": "code",
      "metadata": {
        "id": "JIhlDYommjY3",
        "colab_type": "code",
        "outputId": "a183a38d-1638-4f59-d861-8c1b03b584fa",
        "colab": {
          "base_uri": "https://localhost:8080/",
          "height": 34
        }
      },
      "source": [
        "storage"
      ],
      "execution_count": 0,
      "outputs": [
        {
          "output_type": "execute_result",
          "data": {
            "text/plain": [
              "{2: 1, 3: 2, 4: 3, 5: 5, 6: 8, 7: 13, 8: 21, 9: 34, 10: 55}"
            ]
          },
          "metadata": {
            "tags": []
          },
          "execution_count": 8
        }
      ]
    },
    {
      "cell_type": "markdown",
      "metadata": {
        "id": "FRn4T73JhFc-",
        "colab_type": "text"
      },
      "source": [
        "<h2> Climbing stairs </h2>"
      ]
    },
    {
      "cell_type": "code",
      "metadata": {
        "id": "qaP-ifNLcJZN",
        "colab_type": "code",
        "colab": {}
      },
      "source": [
        "def fib(n):\n",
        "    \n",
        "    if n <= 1:\n",
        "        return n\n",
        "    else:\n",
        "        return fib(n-1) + fib(n-2)\n",
        "    \n",
        "def countways(s):\n",
        "    return fib(s+1)"
      ],
      "execution_count": 0,
      "outputs": []
    },
    {
      "cell_type": "code",
      "metadata": {
        "id": "uTatq97OiE4A",
        "colab_type": "code",
        "outputId": "5ed40220-b9da-4c64-a5f3-38531248b135",
        "colab": {
          "base_uri": "https://localhost:8080/",
          "height": 34
        }
      },
      "source": [
        "countways(4)"
      ],
      "execution_count": 0,
      "outputs": [
        {
          "output_type": "execute_result",
          "data": {
            "text/plain": [
              "5"
            ]
          },
          "metadata": {
            "tags": []
          },
          "execution_count": 165
        }
      ]
    },
    {
      "cell_type": "markdown",
      "metadata": {
        "id": "Z7w6WyFHmMls",
        "colab_type": "text"
      },
      "source": [
        "<h2> Reverse a string </h2>"
      ]
    },
    {
      "cell_type": "code",
      "metadata": {
        "id": "5WC1xhumiHRH",
        "colab_type": "code",
        "colab": {}
      },
      "source": [
        "def reversestr(phrase):\n",
        "    \n",
        "    s = str.split(phrase,\" \")\n",
        "    new_p =\"\"\n",
        "    print(s)\n",
        "    for i in reversed(range(len(s))):\n",
        "        \n",
        "        if s[i]!=\"\" and i != 0:\n",
        "            new_p+=s[i]+ \" \"\n",
        "        else:\n",
        "            new_p+=s[i]\n",
        "        \n",
        "    return new_p.strip()    "
      ],
      "execution_count": 0,
      "outputs": []
    },
    {
      "cell_type": "code",
      "metadata": {
        "id": "UyLGvZ5b2UEW",
        "colab_type": "code",
        "outputId": "ba706f4f-d70c-43ac-ac56-c3a1d7867bc0",
        "colab": {
          "base_uri": "https://localhost:8080/",
          "height": 51
        }
      },
      "source": [
        "reversestr(\" hello world \")"
      ],
      "execution_count": 0,
      "outputs": [
        {
          "output_type": "stream",
          "text": [
            "['', 'hello', 'world', '']\n"
          ],
          "name": "stdout"
        },
        {
          "output_type": "execute_result",
          "data": {
            "text/plain": [
              "'world hello'"
            ]
          },
          "metadata": {
            "tags": []
          },
          "execution_count": 35
        }
      ]
    },
    {
      "cell_type": "markdown",
      "metadata": {
        "id": "NlZ8hy2Squu6",
        "colab_type": "text"
      },
      "source": [
        "<h2> Column Excel sheet </h2>"
      ]
    },
    {
      "cell_type": "code",
      "metadata": {
        "id": "lz3iotOgm06m",
        "colab_type": "code",
        "colab": {}
      },
      "source": [
        "import string\n",
        "\n",
        "def getcolumn(num):\n",
        "    \n",
        "    alphabet = list(string.ascii_lowercase)\n",
        "    column=\"\"\n",
        "    test_list = []\n",
        "    \n",
        "    if num <= 26:\n",
        "        \n",
        "        return alphabet[num-1]\n",
        "    \n",
        "    else:\n",
        "      \n",
        "        d = num//26\n",
        "        r = num % 26\n",
        "        \n",
        "        return alphabet[d-1] + alphabet[r-1]\n",
        "       "
      ],
      "execution_count": 0,
      "outputs": []
    },
    {
      "cell_type": "code",
      "metadata": {
        "id": "nr4mqoL19rbO",
        "colab_type": "code",
        "outputId": "a00d3bee-ffb9-45f0-fbd1-dc0bc73f9f5b",
        "colab": {
          "base_uri": "https://localhost:8080/",
          "height": 34
        }
      },
      "source": [
        "800//26"
      ],
      "execution_count": 0,
      "outputs": [
        {
          "output_type": "execute_result",
          "data": {
            "text/plain": [
              "30"
            ]
          },
          "metadata": {
            "tags": []
          },
          "execution_count": 200
        }
      ]
    },
    {
      "cell_type": "code",
      "metadata": {
        "id": "n02ef-3qq18p",
        "colab_type": "code",
        "outputId": "0eadd04b-c107-4917-acd6-c965635ec75d",
        "colab": {
          "base_uri": "https://localhost:8080/",
          "height": 34
        }
      },
      "source": [
        "getcolumn(701)"
      ],
      "execution_count": 0,
      "outputs": [
        {
          "output_type": "execute_result",
          "data": {
            "text/plain": [
              "'zy'"
            ]
          },
          "metadata": {
            "tags": []
          },
          "execution_count": 212
        }
      ]
    },
    {
      "cell_type": "code",
      "metadata": {
        "id": "YZ4gOr1Sq3JL",
        "colab_type": "code",
        "colab": {}
      },
      "source": [
        "import string\n",
        "\n",
        "list(string.ascii_lowercase)"
      ],
      "execution_count": 0,
      "outputs": []
    },
    {
      "cell_type": "markdown",
      "metadata": {
        "id": "Kx6BjyC3Emvc",
        "colab_type": "text"
      },
      "source": [
        "<h2> Remove Parenthesis </h2>"
      ]
    },
    {
      "cell_type": "code",
      "metadata": {
        "id": "Uu0Do7YQrlay",
        "colab_type": "code",
        "colab": {}
      },
      "source": [
        "def removepar(par):\n",
        "    \n",
        "    c_open = 0\n",
        "    c_close = 0\n",
        "    pos_op = []\n",
        "    pos_cl = []\n",
        "    list_poss = []\n",
        "    \n",
        "    for i in range(len(par)):\n",
        "        \n",
        "        if par[i] == \"(\":\n",
        "            c_open+=1\n",
        "            pos_op.append(i)\n",
        "            \n",
        "        else:\n",
        "            \n",
        "            c_close+=1\n",
        "            pos_cl.append(i)\n",
        "            \n",
        "    if c_open > c_close :\n",
        "        \n",
        "        for j in range(len(pos_op)):\n",
        "            \n",
        "            if pos_op[j]!=0:\n",
        "                \n",
        "                list_poss.append(par[:pos_op[j]]+par[pos_op[j]+1:])\n",
        "                            \n",
        "        return list(set(list_poss))\n",
        "    \n",
        "    elif  c_close > c_open :  \n",
        "        \n",
        "        for j in range(len(pos_cl)):\n",
        "            \n",
        "            if pos_cl[j]!=len(par)-1:\n",
        "                \n",
        "                list_poss.append(par[:pos_cl[j]]+par[pos_cl[j]+1:]) \n",
        "                \n",
        "        return list(set(list_poss))\n",
        "    \n",
        "    else :\n",
        "        \n",
        "        return par\n",
        "    \n"
      ],
      "execution_count": 0,
      "outputs": []
    },
    {
      "cell_type": "code",
      "metadata": {
        "id": "JZYk5hEvF6tF",
        "colab_type": "code",
        "outputId": "ced3fae9-4e78-4ecf-bd5a-1bfe12569db1",
        "colab": {
          "base_uri": "https://localhost:8080/",
          "height": 34
        }
      },
      "source": [
        "removepar(\"(()()()\")"
      ],
      "execution_count": 0,
      "outputs": [
        {
          "output_type": "execute_result",
          "data": {
            "text/plain": [
              "['(()())', '()()()', '(())()']"
            ]
          },
          "metadata": {
            "tags": []
          },
          "execution_count": 236
        }
      ]
    },
    {
      "cell_type": "markdown",
      "metadata": {
        "id": "BHpEMGD5jQnu",
        "colab_type": "text"
      },
      "source": [
        "<h2> Median of two sorted arrays </h2>"
      ]
    },
    {
      "cell_type": "markdown",
      "metadata": {
        "id": "Ezm0Ufdtzd8o",
        "colab_type": "text"
      },
      "source": [
        "<h3> Sol 1 </h3>"
      ]
    },
    {
      "cell_type": "code",
      "metadata": {
        "id": "co6nas42Jl1b",
        "colab_type": "code",
        "colab": {}
      },
      "source": [
        "def median(arr1,arr2):\n",
        "    \n",
        "    new_tab = np.zeros(arr1.shape[0]+arr2.shape[0])\n",
        "    \n",
        "    new_tab = np.hstack([arr1,arr2])\n",
        "    \n",
        "    size = new_tab.shape[0]\n",
        "    \n",
        "    for i in range(new_tab.shape[0]):\n",
        "        \n",
        "        if i < new_tab.shape[0]-2:\n",
        "        \n",
        "            j=i+1\n",
        "\n",
        "            if new_tab[i]>new_tab[j]:\n",
        "\n",
        "                new_tab[i],new_tab[j]= new_tab[j],new_tab[i]\n",
        "    \n",
        "    for i in reversed(range(new_tab.shape[0])):\n",
        "        \n",
        "        if i>=1:\n",
        "        \n",
        "            j=i-1\n",
        "\n",
        "            if new_tab[i] < new_tab[j]:\n",
        "\n",
        "                new_tab[i],new_tab[j]= new_tab[j],new_tab[i]\n",
        "\n",
        "     \n",
        "    if new_tab.shape[0] % 2 == 0:\n",
        "        \n",
        "        half = int((size/2)-1)\n",
        "        median = (new_tab[half] + new_tab[half+1]) / 2\n",
        "        \n",
        "    else:\n",
        "        \n",
        "        median = new_tab[round(size/2)]\n",
        "    \n",
        "    \n",
        "    return median"
      ],
      "execution_count": 0,
      "outputs": []
    },
    {
      "cell_type": "code",
      "metadata": {
        "id": "TzRvKorLjdNv",
        "colab_type": "code",
        "colab": {}
      },
      "source": [
        "arr1 = np.array([2,3,5])\n",
        "arr2 = np.array([1,4,8])"
      ],
      "execution_count": 0,
      "outputs": []
    },
    {
      "cell_type": "code",
      "metadata": {
        "id": "Y9IL2_7ujmfR",
        "colab_type": "code",
        "outputId": "7ef3b4cd-7292-445b-e7b5-7a33e19dae8d",
        "colab": {
          "base_uri": "https://localhost:8080/",
          "height": 34
        }
      },
      "source": [
        "median(arr1,arr2)"
      ],
      "execution_count": 0,
      "outputs": [
        {
          "output_type": "execute_result",
          "data": {
            "text/plain": [
              "3.5"
            ]
          },
          "metadata": {
            "tags": []
          },
          "execution_count": 45
        }
      ]
    },
    {
      "cell_type": "markdown",
      "metadata": {
        "id": "gFH3ortazi-K",
        "colab_type": "text"
      },
      "source": [
        "<h3> Sol 2 </h3>"
      ]
    },
    {
      "cell_type": "code",
      "metadata": {
        "id": "URbCfcOEziPF",
        "colab_type": "code",
        "colab": {}
      },
      "source": [
        "def median2(arr1,arr2):\n",
        "    \n",
        "    \n",
        "    \n",
        "    \n",
        "    \n",
        "    \n",
        "    return median"
      ],
      "execution_count": 0,
      "outputs": []
    },
    {
      "cell_type": "markdown",
      "metadata": {
        "id": "eyKwQ62q6Dt8",
        "colab_type": "text"
      },
      "source": [
        "<h2> Roman to decimal </h2>"
      ]
    },
    {
      "cell_type": "code",
      "metadata": {
        "id": "z9bcgqWXtdcj",
        "colab_type": "code",
        "colab": {}
      },
      "source": [
        "roman=list([[\"I\",\"V\",\"X\",\"L\",\"C\",\"D\",\"M\"],[1,5,10,50,100,500,1000]])"
      ],
      "execution_count": 0,
      "outputs": []
    },
    {
      "cell_type": "code",
      "metadata": {
        "id": "rlWQlZ6Q7EFT",
        "colab_type": "code",
        "colab": {}
      },
      "source": [
        "dict_roman = dict(zip(roman[0],roman[1]))"
      ],
      "execution_count": 0,
      "outputs": []
    },
    {
      "cell_type": "code",
      "metadata": {
        "id": "KAsEbcyz7LvM",
        "colab_type": "code",
        "colab": {}
      },
      "source": [
        "def roman_to_dec(num_r,dict_roman):\n",
        "    \n",
        "    sum = 0\n",
        "    letter=0\n",
        "    \n",
        "    while letter < len(num_r):\n",
        "        \n",
        "        if len(num_r)==1:\n",
        "            return dict_roman[num_r[letter]]\n",
        "            \n",
        "        elif dict_roman[num_r[letter]] < dict_roman[num_r[letter+1]] and letter < len(num_r)-1:\n",
        "            sum = (dict_roman[num_r[letter+1]] - dict_roman[num_r[letter]]) + sum\n",
        "            letter +=2\n",
        "            \n",
        "    \n",
        "        else:\n",
        "            \n",
        "            sum = dict_roman[num_r[letter]] + sum\n",
        "            letter +=1\n",
        "        \n",
        "    return sum"
      ],
      "execution_count": 0,
      "outputs": []
    },
    {
      "cell_type": "code",
      "metadata": {
        "id": "cgN1DACy7iMK",
        "colab_type": "code",
        "outputId": "f8a3f31c-fc87-4212-9794-c63cf894497a",
        "colab": {
          "base_uri": "https://localhost:8080/",
          "height": 34
        }
      },
      "source": [
        "roman_to_dec(\"XM\",dict_roman)"
      ],
      "execution_count": 0,
      "outputs": [
        {
          "output_type": "execute_result",
          "data": {
            "text/plain": [
              "990"
            ]
          },
          "metadata": {
            "tags": []
          },
          "execution_count": 90
        }
      ]
    },
    {
      "cell_type": "markdown",
      "metadata": {
        "id": "N4BwXfYDBAR4",
        "colab_type": "text"
      },
      "source": [
        "<h2> Pascal Triangle </h2>"
      ]
    },
    {
      "cell_type": "code",
      "metadata": {
        "id": "aheg_Eut9djt",
        "colab_type": "code",
        "colab": {}
      },
      "source": [
        "def triangle(iteration):\n",
        "    \n",
        "    pascal = []\n",
        "    \n",
        "    for i in range(1,iteration+1):\n",
        "        \n",
        "        tab = np.ones(i)\n",
        "        \n",
        "        if i > 2:\n",
        "           \n",
        "            temp = pascal[i-2]\n",
        "            \n",
        "            for j in range(1,tab.shape[0]-1):\n",
        "                \n",
        "                tab[j] = temp[j-1] + temp[j]\n",
        "                \n",
        "            pascal.append(tab)\n",
        "            \n",
        "        else:\n",
        "            \n",
        "            pascal.append(tab)\n",
        "            \n",
        "    \n",
        "    return pascal"
      ],
      "execution_count": 0,
      "outputs": []
    },
    {
      "cell_type": "code",
      "metadata": {
        "id": "CvgEUyc7KRPf",
        "colab_type": "code",
        "outputId": "6914c79c-738a-40f9-a00f-8f05d85efa0e",
        "colab": {
          "base_uri": "https://localhost:8080/",
          "height": 187
        }
      },
      "source": [
        "triangle(10)"
      ],
      "execution_count": 0,
      "outputs": [
        {
          "output_type": "execute_result",
          "data": {
            "text/plain": [
              "[array([1.]),\n",
              " array([1., 1.]),\n",
              " array([1., 2., 1.]),\n",
              " array([1., 3., 3., 1.]),\n",
              " array([1., 4., 6., 4., 1.]),\n",
              " array([ 1.,  5., 10., 10.,  5.,  1.]),\n",
              " array([ 1.,  6., 15., 20., 15.,  6.,  1.]),\n",
              " array([ 1.,  7., 21., 35., 35., 21.,  7.,  1.]),\n",
              " array([ 1.,  8., 28., 56., 70., 56., 28.,  8.,  1.]),\n",
              " array([  1.,   9.,  36.,  84., 126., 126.,  84.,  36.,   9.,   1.])]"
            ]
          },
          "metadata": {
            "tags": []
          },
          "execution_count": 118
        }
      ]
    },
    {
      "cell_type": "markdown",
      "metadata": {
        "id": "qlG3_O7En-9Q",
        "colab_type": "text"
      },
      "source": [
        "<h2> Searching values </h2>"
      ]
    },
    {
      "cell_type": "markdown",
      "metadata": {
        "id": "yzzWY6EXmSrW",
        "colab_type": "text"
      },
      "source": [
        "<h3> Brute force </h3>"
      ]
    },
    {
      "cell_type": "code",
      "metadata": {
        "id": "pmqfOsrFK4RS",
        "colab_type": "code",
        "colab": {}
      },
      "source": [
        "def force_search(arr, search_v):\n",
        "    \n",
        "    for i in range(arr.shape[0]):\n",
        "        \n",
        "        if arr[i]==search_v:\n",
        "            \n",
        "            return print(\"value found at the index\",i)\n",
        "            break\n",
        "   \n",
        "    return print(\"value not existent\")"
      ],
      "execution_count": 0,
      "outputs": []
    },
    {
      "cell_type": "code",
      "metadata": {
        "id": "sKo8AZ6VocCI",
        "colab_type": "code",
        "colab": {}
      },
      "source": [
        "test = np.array([1,4,5,7,9,10,13])"
      ],
      "execution_count": 0,
      "outputs": []
    },
    {
      "cell_type": "code",
      "metadata": {
        "id": "7wX71G8rriJF",
        "colab_type": "code",
        "outputId": "dbdf5bfa-2a87-41b1-a05f-252430a3013b",
        "colab": {
          "base_uri": "https://localhost:8080/",
          "height": 34
        }
      },
      "source": [
        "test[2:6]"
      ],
      "execution_count": 0,
      "outputs": [
        {
          "output_type": "execute_result",
          "data": {
            "text/plain": [
              "array([ 5,  7,  9, 10])"
            ]
          },
          "metadata": {
            "tags": []
          },
          "execution_count": 157
        }
      ]
    },
    {
      "cell_type": "code",
      "metadata": {
        "id": "Bdir9mKdoiAn",
        "colab_type": "code",
        "outputId": "bc144cd6-af52-4b87-d1ed-19c29ca6e8c7",
        "colab": {
          "base_uri": "https://localhost:8080/",
          "height": 34
        }
      },
      "source": [
        "force_search(test,13)"
      ],
      "execution_count": 0,
      "outputs": [
        {
          "output_type": "stream",
          "text": [
            "value found at the index 6\n"
          ],
          "name": "stdout"
        }
      ]
    },
    {
      "cell_type": "markdown",
      "metadata": {
        "id": "2hhYGl2_mWuR",
        "colab_type": "text"
      },
      "source": [
        "<h3> Binary search </h3>"
      ]
    },
    {
      "cell_type": "code",
      "metadata": {
        "id": "qq8wkRYmo8N7",
        "colab_type": "code",
        "colab": {}
      },
      "source": [
        "def binary_search(arr,search_v):\n",
        "    \n",
        "        size = arr.shape[0]\n",
        "        \n",
        "        while size > 1:\n",
        "            \n",
        "            if search_v == arr[0]:\n",
        "                return 0\n",
        "                break\n",
        "                \n",
        "            elif search_v == arr[size-1]:\n",
        "                return size-1\n",
        "                break\n",
        "            \n",
        "            else:\n",
        "            \n",
        "                if arr.shape[0]%2==0:\n",
        "\n",
        "                    if search_v == arr[(size/2)-1]:\n",
        "                        return (size/2)-1\n",
        "                        break\n",
        "\n",
        "                    elif search_v > arr[(size/2)-1]:\n",
        "                        arr = arr[(size/2):]\n",
        "                        size = arr.shape[0]\n",
        "\n",
        "                    else:\n",
        "                        arr = arr[:(size/2)]\n",
        "                        size = arr.shape[0]\n",
        "\n",
        "                else:\n",
        "\n",
        "                    if search_v == arr[int(size/2)]:\n",
        "                        return int(size/2)\n",
        "                        break\n",
        "\n",
        "                    elif search_v > arr[int(size/2)]:\n",
        "                        arr = arr[int(size/2)+1:]\n",
        "                        size = arr.shape[0]\n",
        "\n",
        "                    else:\n",
        "                        arr = arr[:int(size/2)]\n",
        "                        size = arr.shape[0]\n",
        "                        \n",
        "                        \n",
        "        return print(\"not existent\")"
      ],
      "execution_count": 0,
      "outputs": []
    },
    {
      "cell_type": "code",
      "metadata": {
        "id": "1fe3ydPQstmX",
        "colab_type": "code",
        "outputId": "a8b83199-b32e-4ca6-ef3a-2f6ff4baa8d1",
        "colab": {
          "base_uri": "https://localhost:8080/",
          "height": 34
        }
      },
      "source": [
        "binary_search(test,10)"
      ],
      "execution_count": 0,
      "outputs": [
        {
          "output_type": "execute_result",
          "data": {
            "text/plain": [
              "1"
            ]
          },
          "metadata": {
            "tags": []
          },
          "execution_count": 58
        }
      ]
    },
    {
      "cell_type": "markdown",
      "metadata": {
        "id": "1NimhgNfBJPt",
        "colab_type": "text"
      },
      "source": [
        "<h3> Recursive binary search </h3>"
      ]
    },
    {
      "cell_type": "code",
      "metadata": {
        "id": "sET4UzBjBNnC",
        "colab_type": "code",
        "colab": {}
      },
      "source": [
        "def rec_binary(arr, search):\n",
        "    \n",
        "    size=arr.shape[0]\n",
        "    \n",
        "    if size > 1 :\n",
        "        \n",
        "        if arr[0] == search or arr[size-1] == search :\n",
        "            return print(\"found value\")\n",
        "\n",
        "        elif arr[int(size/2)-1] == search :\n",
        "            return print(\"found value\")\n",
        "\n",
        "        elif arr[int(size/2)-1] > search:\n",
        "\n",
        "            rec_binary(arr[:int(size/2)],search)\n",
        "\n",
        "\n",
        "        elif arr[int(size/2)-1] < search:\n",
        "\n",
        "            rec_binary(arr[int(size/2):],search)\n",
        "\n",
        "\n",
        "    else:\n",
        "\n",
        "        return print(\"not found\")"
      ],
      "execution_count": 0,
      "outputs": []
    },
    {
      "cell_type": "code",
      "metadata": {
        "id": "NnF7snXWDss-",
        "colab_type": "code",
        "outputId": "81336821-1d01-4721-f38c-bf44bcad03fe",
        "colab": {
          "base_uri": "https://localhost:8080/",
          "height": 34
        }
      },
      "source": [
        "rec_binary(test,13)"
      ],
      "execution_count": 0,
      "outputs": [
        {
          "output_type": "stream",
          "text": [
            "found value\n"
          ],
          "name": "stdout"
        }
      ]
    },
    {
      "cell_type": "markdown",
      "metadata": {
        "id": "IUw7TsdT2h-c",
        "colab_type": "text"
      },
      "source": [
        "<h2> Arbres de decisions </h2>"
      ]
    },
    {
      "cell_type": "code",
      "metadata": {
        "id": "jfxAuaPTs81o",
        "colab_type": "code",
        "colab": {}
      },
      "source": [
        "class Binary_Tree():\n",
        "    \n",
        "    def __init__(self,key):\n",
        "        self.key = key\n",
        "        self.LeftChild = None\n",
        "        self.RightChild=None\n",
        "        \n",
        "    def InsertLeft(self,key):\n",
        "        \n",
        "        if self.LeftChild==None : \n",
        "            self.LeftChild = Binary_Tree(key)\n",
        "            \n",
        "        else:\n",
        "            t = Binary_Tree(key)\n",
        "            t.LeftChild = self.LeftChild\n",
        "            self.LeftChild = t\n",
        "            \n",
        "            \n",
        "    def InsertRight(self,key):\n",
        "        \n",
        "        if self.RightChild == None:\n",
        "            self.RightChild= Binary_Tree(key)\n",
        "            \n",
        "        else:\n",
        "            t = Binary_Tree(key)\n",
        "            t.RightChild = self.RightChild\n",
        "            self.RightChild = t\n",
        "        \n",
        "    \n",
        "    def getRight(self):\n",
        "        return self.RightChild\n",
        "    \n",
        "    def getLeft(self):\n",
        "        return self.LeftChild\n",
        "    \n",
        "    def setRoot(self,val):\n",
        "        self.key = val\n",
        "    \n",
        "    def getRoot(self):\n",
        "        return self.key"
      ],
      "execution_count": 0,
      "outputs": []
    },
    {
      "cell_type": "code",
      "metadata": {
        "id": "2mIU_PkH-NFP",
        "colab_type": "code",
        "colab": {}
      },
      "source": [
        "r=Binary_Tree(\"a\")\n",
        "r.InsertLeft(\"b\")\n",
        "r.getLeft().InsertLeft(\"g\")\n",
        "r.InsertRight(\"c\")\n",
        "r.getRight().InsertRight(\"d\")\n",
        "r.getRight().getRight().InsertLeft(\"f\")\n",
        "r.getRight().InsertLeft(\"e\")"
      ],
      "execution_count": 0,
      "outputs": []
    },
    {
      "cell_type": "code",
      "metadata": {
        "id": "43L_EpUM-hyL",
        "colab_type": "code",
        "outputId": "56687c4f-6cbf-4ba9-ae40-36beaeeca887",
        "colab": {
          "base_uri": "https://localhost:8080/",
          "height": 68
        }
      },
      "source": [
        "print(r.getRoot())\n",
        "print(r.getRight().getRoot())\n",
        "print(r.getRight().getRight().getRoot())"
      ],
      "execution_count": 0,
      "outputs": [
        {
          "output_type": "stream",
          "text": [
            "a\n",
            "c\n",
            "d\n"
          ],
          "name": "stdout"
        }
      ]
    },
    {
      "cell_type": "markdown",
      "metadata": {
        "id": "N-as_A1TOy99",
        "colab_type": "text"
      },
      "source": [
        "<h2> Max depth </h2>"
      ]
    },
    {
      "cell_type": "code",
      "metadata": {
        "id": "L_GXATT5-zc0",
        "colab_type": "code",
        "colab": {}
      },
      "source": [
        "def preorder(root):\n",
        "        \n",
        "        if root:\n",
        "             \n",
        "            ldepth = preorder(root.getLeft())\n",
        "            rdepth = preorder(root.getRight())\n",
        "            \n",
        "            # Use the larger one \n",
        "            if (ldepth > rdepth): \n",
        "                return ldepth+1\n",
        "            else: \n",
        "                return rdepth+1\n",
        "            \n",
        "        else: \n",
        "            \n",
        "            return 0\n",
        "\n",
        "     \n"
      ],
      "execution_count": 0,
      "outputs": []
    },
    {
      "cell_type": "code",
      "metadata": {
        "id": "8bntfWiPCHcd",
        "colab_type": "code",
        "outputId": "8b1a869c-1ec1-480a-9bd0-aa9a400dbddc",
        "colab": {
          "base_uri": "https://localhost:8080/",
          "height": 34
        }
      },
      "source": [
        "preorder(r)"
      ],
      "execution_count": 0,
      "outputs": [
        {
          "output_type": "execute_result",
          "data": {
            "text/plain": [
              "4"
            ]
          },
          "metadata": {
            "tags": []
          },
          "execution_count": 60
        }
      ]
    },
    {
      "cell_type": "code",
      "metadata": {
        "id": "fA3prfauIdZ1",
        "colab_type": "code",
        "colab": {}
      },
      "source": [
        "def max_depth(root, depth=1):\n",
        "    \n",
        "    if not root:\n",
        "        return 0\n",
        "    \n",
        "    elif not root.getLeft() and not root.getRight():\n",
        "        return depth\n",
        "    \n",
        "    elif not root.getLeft() and root.getRight():\n",
        "        return max_depth(root.getRight(),depth+1)\n",
        "        \n",
        "    \n",
        "    elif root.getLeft() and not root.getRight():\n",
        "        return max_depth(root.getLeft(),depth+1)\n",
        "        \n",
        "    else:\n",
        "        return max(max_depth(root.getLeft(),depth+1),max_depth(root.getRight(),depth+1))"
      ],
      "execution_count": 0,
      "outputs": []
    },
    {
      "cell_type": "code",
      "metadata": {
        "id": "78E58Xm_KE9B",
        "colab_type": "code",
        "outputId": "771051e8-d26f-4212-e841-aa1d8d9b1138",
        "colab": {
          "base_uri": "https://localhost:8080/",
          "height": 34
        }
      },
      "source": [
        "max_depth(r)"
      ],
      "execution_count": 0,
      "outputs": [
        {
          "output_type": "execute_result",
          "data": {
            "text/plain": [
              "4"
            ]
          },
          "metadata": {
            "tags": []
          },
          "execution_count": 173
        }
      ]
    },
    {
      "cell_type": "markdown",
      "metadata": {
        "id": "gMnqNACZOsQx",
        "colab_type": "text"
      },
      "source": [
        "<h2> Traversal order tree </h2>\n"
      ]
    },
    {
      "cell_type": "code",
      "metadata": {
        "id": "aJ_5u-tUKYGf",
        "colab_type": "code",
        "colab": {}
      },
      "source": [
        "def add_nodes(root,order,num=0):\n",
        "    \n",
        "    if root:\n",
        "        if num ==0:\n",
        "            order.append([root.getRoot()])\n",
        "        \n",
        "        if root.getLeft() and root.getRight():\n",
        "            order.append([root.getLeft().getRoot(),root.getRight().getRoot()])\n",
        "        \n",
        "        elif root.getLeft():\n",
        "            order.append([root.getLeft().getRoot()])\n",
        "            \n",
        "        elif root.getRight():\n",
        "            order.append([root.getRight().getRoot()])\n",
        "        \n",
        "        num=num+1\n",
        "        \n",
        "        add_nodes(root.getRight(),order,num)\n",
        "        add_nodes(root.getLeft(),order,num)\n",
        "    \n",
        "        return order"
      ],
      "execution_count": 0,
      "outputs": []
    },
    {
      "cell_type": "code",
      "metadata": {
        "id": "qxyKH3R_PjtX",
        "colab_type": "code",
        "colab": {}
      },
      "source": [
        "test = add_nodes(r, [])"
      ],
      "execution_count": 0,
      "outputs": []
    },
    {
      "cell_type": "code",
      "metadata": {
        "id": "r7ZA9WX4PlUo",
        "colab_type": "code",
        "outputId": "0faac64e-9550-47d4-f5a4-79313e717c17",
        "colab": {
          "base_uri": "https://localhost:8080/",
          "height": 34
        }
      },
      "source": [
        "test"
      ],
      "execution_count": 0,
      "outputs": [
        {
          "output_type": "execute_result",
          "data": {
            "text/plain": [
              "[['a'], ['b', 'c'], ['e', 'd'], ['f'], ['g']]"
            ]
          },
          "metadata": {
            "tags": []
          },
          "execution_count": 138
        }
      ]
    },
    {
      "cell_type": "markdown",
      "metadata": {
        "id": "OEesKhglYjX8",
        "colab_type": "text"
      },
      "source": [
        "<h2> Parcours en largeur de l'arbre </h2>"
      ]
    },
    {
      "cell_type": "code",
      "metadata": {
        "id": "bZry8dYJYrQ2",
        "colab_type": "code",
        "colab": {}
      },
      "source": [
        "def bfs(root):\n",
        "    \n",
        "    queue = Queue()\n",
        "    queue.enqueue(root)\n",
        "    \n",
        "    while not queue.isEmpty():\n",
        "        \n",
        "        v = queue.dequeue()\n",
        "        print(v.getRoot())\n",
        "        \n",
        "        if v.getLeft() and v.getRight():\n",
        "            queue.enqueue(v.getLeft())\n",
        "            queue.enqueue(v.getRight())\n",
        "            \n",
        "        elif v.getLeft():\n",
        "            queue.enqueue(v.getLeft())\n",
        "        \n",
        "        elif v.getRight():\n",
        "            queue.enqueue(v.getLeft())\n",
        "\n",
        "    "
      ],
      "execution_count": 0,
      "outputs": []
    },
    {
      "cell_type": "code",
      "metadata": {
        "id": "-TK9CPjPdB2Y",
        "colab_type": "code",
        "outputId": "5b9a0fe7-9fc6-4fde-9aa3-40343d876eae",
        "colab": {
          "base_uri": "https://localhost:8080/",
          "height": 136
        }
      },
      "source": [
        "bfs(r)"
      ],
      "execution_count": 0,
      "outputs": [
        {
          "output_type": "stream",
          "text": [
            "a\n",
            "b\n",
            "c\n",
            "g\n",
            "e\n",
            "d\n",
            "f\n"
          ],
          "name": "stdout"
        }
      ]
    },
    {
      "cell_type": "markdown",
      "metadata": {
        "id": "JATKvSdYk--I",
        "colab_type": "text"
      },
      "source": [
        "<h2> Parcours en profondeur </h2>"
      ]
    },
    {
      "cell_type": "code",
      "metadata": {
        "id": "YV8Du0zblKAo",
        "colab_type": "code",
        "colab": {}
      },
      "source": [
        "def dfs(root):\n",
        "    \n",
        "    stack = Stack()\n",
        "    stack.push(root)\n",
        "    \n",
        "    while not stack.isEmpty():\n",
        "        \n",
        "        v=stack.pop()\n",
        "        print(v.getRoot())\n",
        "        \n",
        "        if v.getLeft() and v.getRight():\n",
        "            stack.push(v.getRight())\n",
        "            stack.push(v.getLeft())\n",
        "            \n",
        "        elif v.getLeft():\n",
        "            stack.push(v.getLeft())\n",
        "        \n",
        "        elif v.getRight():\n",
        "            stack.push(v.getLeft())\n",
        "        \n",
        "        "
      ],
      "execution_count": 0,
      "outputs": []
    },
    {
      "cell_type": "code",
      "metadata": {
        "id": "PvVx4t4imAnx",
        "colab_type": "code",
        "outputId": "b2a5f021-fc0a-49d6-bac9-2b2b2a894362",
        "colab": {
          "base_uri": "https://localhost:8080/",
          "height": 136
        }
      },
      "source": [
        "dfs(r)"
      ],
      "execution_count": 0,
      "outputs": [
        {
          "output_type": "stream",
          "text": [
            "a\n",
            "b\n",
            "g\n",
            "c\n",
            "e\n",
            "d\n",
            "f\n"
          ],
          "name": "stdout"
        }
      ]
    },
    {
      "cell_type": "markdown",
      "metadata": {
        "id": "jqXf9nAYHu8D",
        "colab_type": "text"
      },
      "source": [
        "<h2> Power function </h2>"
      ]
    },
    {
      "cell_type": "code",
      "metadata": {
        "id": "mbAMcNtUTWVu",
        "colab_type": "code",
        "colab": {}
      },
      "source": [
        "def power(x,n):\n",
        "     \n",
        "    \n",
        "    if n==0:\n",
        "        return 1\n",
        "    \n",
        "    if n>0 :\n",
        "        powa = x\n",
        "        for i in range(1,n):\n",
        "            x *= powa\n",
        "                \n",
        "        return x\n",
        "    \n",
        "    else:\n",
        "        powa= x\n",
        "        for i in range(1,-n):\n",
        "            x*=powa\n",
        "            \n",
        "        return 1 / x\n",
        "        \n",
        "    \n",
        "    "
      ],
      "execution_count": 0,
      "outputs": []
    },
    {
      "cell_type": "code",
      "metadata": {
        "id": "mmTL6Q7DI7Nm",
        "colab_type": "code",
        "outputId": "47d9aa13-b0e2-4d0b-aa38-238082712487",
        "colab": {
          "base_uri": "https://localhost:8080/",
          "height": 34
        }
      },
      "source": [
        "power(9,2)"
      ],
      "execution_count": 0,
      "outputs": [
        {
          "output_type": "execute_result",
          "data": {
            "text/plain": [
              "81"
            ]
          },
          "metadata": {
            "tags": []
          },
          "execution_count": 17
        }
      ]
    },
    {
      "cell_type": "markdown",
      "metadata": {
        "id": "dHvFCVSIaLiE",
        "colab_type": "text"
      },
      "source": [
        "<h2> Multiply two strings </h2>"
      ]
    },
    {
      "cell_type": "code",
      "metadata": {
        "id": "GbGSHzzzJAMn",
        "colab_type": "code",
        "colab": {}
      },
      "source": [
        "def convert_str(s):\n",
        "    \n",
        "    result = 0 \n",
        "    value = {'0':0, '1':1, '2':2, '3':3, '4':4, '5':5, '6':6, '7':7, '8':8, '9':9}\n",
        "    for l in s :\n",
        "        if l in \"0123456789\":\n",
        "            result = result * 10 + value[l]\n",
        "    return result \n",
        "\n",
        "\n",
        "def multuply(str1,str2):\n",
        "    return convert_str(str1)*convert_str(str2)"
      ],
      "execution_count": 0,
      "outputs": []
    },
    {
      "cell_type": "code",
      "metadata": {
        "id": "FkdJLkl1adsZ",
        "colab_type": "code",
        "outputId": "41345c37-a9eb-4f42-96a1-00cbf49a7969",
        "colab": {
          "base_uri": "https://localhost:8080/",
          "height": 34
        }
      },
      "source": [
        "multuply(\"2\",\"120\")"
      ],
      "execution_count": 0,
      "outputs": [
        {
          "output_type": "execute_result",
          "data": {
            "text/plain": [
              "240"
            ]
          },
          "metadata": {
            "tags": []
          },
          "execution_count": 27
        }
      ]
    },
    {
      "cell_type": "markdown",
      "metadata": {
        "id": "PHWwdyrwVyky",
        "colab_type": "text"
      },
      "source": [
        "<h2> Longest word in dictionnary </h2>"
      ]
    },
    {
      "cell_type": "code",
      "metadata": {
        "id": "NvMwkf_WduTZ",
        "colab_type": "code",
        "colab": {}
      },
      "source": [
        "def longest(s,dic):\n",
        "      \n",
        "    final = \"\"    \n",
        "        \n",
        "    for k in dic :\n",
        "        \n",
        "        temp = \"\"\n",
        "        v = dic[k]\n",
        "        \n",
        "        for letter in range(len(v)):\n",
        "            \n",
        "            pos = -1\n",
        "            \n",
        "            if v[letter] in s and letter > pos :\n",
        "                \n",
        "                temp += v[letter]\n",
        "                \n",
        "                pos = letter\n",
        "                \n",
        "                if temp == v and len(temp) > len(final) :\n",
        "                    \n",
        "                    final = temp    \n",
        "    \n",
        "    \n",
        "    return final"
      ],
      "execution_count": 0,
      "outputs": []
    },
    {
      "cell_type": "code",
      "metadata": {
        "id": "yFzm2ZSLaEaK",
        "colab_type": "code",
        "colab": {}
      },
      "source": [
        "dicto = {0:\"apple\", 1:\"ale\", 2:\"monkey\", 3:\"prout\"}"
      ],
      "execution_count": 0,
      "outputs": []
    },
    {
      "cell_type": "code",
      "metadata": {
        "id": "uw7BiODIaS4w",
        "colab_type": "code",
        "outputId": "71c2e0ef-1249-4ac1-96d4-0f70ba16f9e3",
        "colab": {
          "base_uri": "https://localhost:8080/",
          "height": 34
        }
      },
      "source": [
        "longest(\"mabpconkpleaey\",dicto)"
      ],
      "execution_count": 0,
      "outputs": [
        {
          "output_type": "execute_result",
          "data": {
            "text/plain": [
              "'monkey'"
            ]
          },
          "metadata": {
            "tags": []
          },
          "execution_count": 22
        }
      ]
    },
    {
      "cell_type": "markdown",
      "metadata": {
        "id": "AGw3pWsKFxU0",
        "colab_type": "text"
      },
      "source": [
        "<h2> contains duplicate </h2>"
      ]
    },
    {
      "cell_type": "markdown",
      "metadata": {
        "id": "1RKwMfiSBmLz",
        "colab_type": "text"
      },
      "source": [
        "<h3> n2 complexity </h3>"
      ]
    },
    {
      "cell_type": "code",
      "metadata": {
        "id": "umRZOoE_asbO",
        "colab_type": "code",
        "colab": {}
      },
      "source": [
        "def detect_dup(arr,k):\n",
        "    \n",
        "    prout = False\n",
        "\n",
        "    for i in range(arr.shape[0]-1):\n",
        "        \n",
        "        limit = i + 1\n",
        "        \n",
        "        for j in range(limit, arr.shape[0]):\n",
        "            \n",
        "            if arr[i]==arr[j] and abs(i-j)==k:\n",
        "                \n",
        "                prout = True \n",
        "                return prout\n",
        "                break  \n",
        "    \n",
        "    return prout"
      ],
      "execution_count": 0,
      "outputs": []
    },
    {
      "cell_type": "code",
      "metadata": {
        "id": "HGH5FbJmG7pw",
        "colab_type": "code",
        "colab": {}
      },
      "source": [
        "val = np.array([1,2,3,2,5,6])"
      ],
      "execution_count": 0,
      "outputs": []
    },
    {
      "cell_type": "code",
      "metadata": {
        "id": "F6RRfsXZG1DL",
        "colab_type": "code",
        "outputId": "410184d6-bd9c-45aa-a114-156748aef942",
        "colab": {
          "base_uri": "https://localhost:8080/",
          "height": 34
        }
      },
      "source": [
        "detect_dup(val,2)"
      ],
      "execution_count": 0,
      "outputs": [
        {
          "output_type": "execute_result",
          "data": {
            "text/plain": [
              "False"
            ]
          },
          "metadata": {
            "tags": []
          },
          "execution_count": 13
        }
      ]
    },
    {
      "cell_type": "markdown",
      "metadata": {
        "id": "G8LOdJXtBqAe",
        "colab_type": "text"
      },
      "source": [
        "<h3> n complexity </h3>"
      ]
    },
    {
      "cell_type": "code",
      "metadata": {
        "id": "m4RE9PeqHQch",
        "colab_type": "code",
        "colab": {}
      },
      "source": [
        "def dup_n(arr):\n",
        "    \n",
        "    hash = {0:arr[0]}\n",
        "    \n",
        "    for i in range(1,arr.shape[0]):\n",
        "        \n",
        "        if arr[i] not in hash.values():\n",
        "            \n",
        "            hash[i] = arr[i]\n",
        "            \n",
        "        else :\n",
        "            \n",
        "            print(arr[i],\"is a duplicate value\")\n",
        "        \n",
        "        "
      ],
      "execution_count": 0,
      "outputs": []
    },
    {
      "cell_type": "code",
      "metadata": {
        "id": "ZdVS4vCUCFp1",
        "colab_type": "code",
        "outputId": "54992c98-1040-4a48-f0df-0ea2589bd06b",
        "colab": {
          "base_uri": "https://localhost:8080/",
          "height": 34
        }
      },
      "source": [
        "dup_n(val)"
      ],
      "execution_count": 0,
      "outputs": [
        {
          "output_type": "stream",
          "text": [
            "2 is a duplicate value\n"
          ],
          "name": "stdout"
        }
      ]
    },
    {
      "cell_type": "markdown",
      "metadata": {
        "id": "gsQ0DclhIQQ1",
        "colab_type": "text"
      },
      "source": [
        "<h2> substr implementation <h2>"
      ]
    },
    {
      "cell_type": "code",
      "metadata": {
        "id": "KuuHXWBZCLCz",
        "colab_type": "code",
        "colab": {}
      },
      "source": [
        "def substr(big,small):\n",
        "    \n",
        "    k=0\n",
        "    \n",
        "    for i in range(len(big)):\n",
        "                        \n",
        "        if k<=len(small)-1 and big[i]==small[k] :\n",
        "            k+=1\n",
        "                           \n",
        "        else :\n",
        "            k=0\n",
        "            \n",
        "        if k==len(small):\n",
        "            return i - (k-1)\n",
        "            break  \n",
        "    \n",
        "    \n",
        "    return -1"
      ],
      "execution_count": 0,
      "outputs": []
    },
    {
      "cell_type": "code",
      "metadata": {
        "id": "tP-RwgJiLw1D",
        "colab_type": "code",
        "outputId": "aac521a4-a523-4be5-ba5d-a1222e0a7a2c",
        "colab": {
          "base_uri": "https://localhost:8080/",
          "height": 34
        }
      },
      "source": [
        "substr(\"bonjourom\",\"on\")"
      ],
      "execution_count": 0,
      "outputs": [
        {
          "output_type": "execute_result",
          "data": {
            "text/plain": [
              "1"
            ]
          },
          "metadata": {
            "tags": []
          },
          "execution_count": 56
        }
      ]
    },
    {
      "cell_type": "markdown",
      "metadata": {
        "id": "UQg3jpyUwJKr",
        "colab_type": "text"
      },
      "source": [
        "<h2> Reverse stars Pyramide </h2> "
      ]
    },
    {
      "cell_type": "code",
      "metadata": {
        "id": "t3gbKoMXL2Wz",
        "colab_type": "code",
        "colab": {}
      },
      "source": [
        "def reverse_star(n_stars):\n",
        "    stars = list(\"*\" * n_stars)\n",
        "    head, queue = 0,len(stars)-1\n",
        "    while head < queue :\n",
        "        print(\"\".join(stars))\n",
        "        stars[head],stars[queue] = \" \",\" \"\n",
        "        head+=1\n",
        "        queue-=1\n"
      ],
      "execution_count": 0,
      "outputs": []
    },
    {
      "cell_type": "code",
      "metadata": {
        "id": "-TTsGGzKwZZX",
        "colab_type": "code",
        "outputId": "6ed04348-ce19-4331-fa07-3ef6ff7e1c3f",
        "colab": {
          "base_uri": "https://localhost:8080/",
          "height": 272
        }
      },
      "source": [
        "reverse_star(30)"
      ],
      "execution_count": 0,
      "outputs": [
        {
          "output_type": "stream",
          "text": [
            "******************************\n",
            " **************************** \n",
            "  **************************  \n",
            "   ************************   \n",
            "    **********************    \n",
            "     ********************     \n",
            "      ******************      \n",
            "       ****************       \n",
            "        **************        \n",
            "         ************         \n",
            "          **********          \n",
            "           ********           \n",
            "            ******            \n",
            "             ****             \n",
            "              **              \n"
          ],
          "name": "stdout"
        }
      ]
    },
    {
      "cell_type": "markdown",
      "metadata": {
        "id": "UNd6ztgYGwNS",
        "colab_type": "text"
      },
      "source": [
        "<h3> Ideal numbers </h3>"
      ]
    },
    {
      "cell_type": "code",
      "metadata": {
        "id": "Jj2xy3CxwdOd",
        "colab_type": "code",
        "colab": {}
      },
      "source": [
        "def ideal_num(bot_v, top_v):\n",
        "    counter = 0\n",
        "    for i in range(20):\n",
        "        for j in range(20) :\n",
        "            if pow(3,i)*pow(5,j) >= bot_v and pow(3,i)*pow(5,j) <= top_v :\n",
        "                counter +=1\n",
        "    return counter\n"
      ],
      "execution_count": 0,
      "outputs": []
    },
    {
      "cell_type": "code",
      "metadata": {
        "id": "4EAVDWJNIxK4",
        "colab_type": "code",
        "outputId": "1d2e315b-8fc1-49c2-8ccc-bd84eb854c70",
        "colab": {
          "base_uri": "https://localhost:8080/",
          "height": 34
        }
      },
      "source": [
        "ideal_num(1,50)"
      ],
      "execution_count": 0,
      "outputs": [
        {
          "output_type": "execute_result",
          "data": {
            "text/plain": [
              "8"
            ]
          },
          "metadata": {
            "tags": []
          },
          "execution_count": 4
        }
      ]
    },
    {
      "cell_type": "markdown",
      "metadata": {
        "id": "cIdMi1mL9Gth",
        "colab_type": "text"
      },
      "source": [
        "<h2> Test dico </h2>"
      ]
    },
    {
      "cell_type": "code",
      "metadata": {
        "id": "c6Vy-g5U40jc",
        "colab_type": "code",
        "colab": {}
      },
      "source": [
        "test = {0: \"allo\",1:\"chien\", 2: \"bonjour\"}\n",
        "\n",
        "for k,v in test.items():\n",
        "    print(k,v)"
      ],
      "execution_count": 0,
      "outputs": []
    },
    {
      "cell_type": "code",
      "metadata": {
        "id": "9lWHhcyL8_u7",
        "colab_type": "code",
        "colab": {}
      },
      "source": [
        "prout = dict((v,k) for k,v in test.items())"
      ],
      "execution_count": 0,
      "outputs": []
    },
    {
      "cell_type": "code",
      "metadata": {
        "id": "QO7ROkMnS6Pp",
        "colab_type": "code",
        "colab": {}
      },
      "source": [
        "prout2 = dict(zip(test.values(),test.keys()))"
      ],
      "execution_count": 0,
      "outputs": []
    },
    {
      "cell_type": "code",
      "metadata": {
        "id": "B4cHU7O8Nggm",
        "colab_type": "code",
        "colab": {}
      },
      "source": [
        ""
      ],
      "execution_count": 0,
      "outputs": []
    }
  ]
}